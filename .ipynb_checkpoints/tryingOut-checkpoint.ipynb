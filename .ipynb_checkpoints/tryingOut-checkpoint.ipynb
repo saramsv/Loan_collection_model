{
 "cells": [
  {
   "cell_type": "code",
   "execution_count": 8,
   "id": "b9064a49",
   "metadata": {},
   "outputs": [],
   "source": [
    "from sklearn.preprocessing import StandardScaler, MinMaxScaler\n",
    "from sklearn.datasets import make_classification\n",
    "from sklearn.linear_model import LogisticRegression\n",
    "from sklearn.pipeline import make_pipeline\n",
    "from sklearn.model_selection import train_test_split\n",
    "import numpy as np"
   ]
  },
  {
   "cell_type": "code",
   "execution_count": 9,
   "id": "78430baa",
   "metadata": {},
   "outputs": [],
   "source": [
    "X,y = make_classification(random_state = 42)"
   ]
  },
  {
   "cell_type": "code",
   "execution_count": 10,
   "id": "cb4cc871",
   "metadata": {},
   "outputs": [],
   "source": [
    "x_train, x_test, y_train, y_test = train_test_split(X, y, test_size=0.2, random_state=42)"
   ]
  },
  {
   "cell_type": "code",
   "execution_count": 11,
   "id": "4900659b",
   "metadata": {},
   "outputs": [],
   "source": [
    "pipeline = make_pipeline(StandardScaler(), LogisticRegression())"
   ]
  },
  {
   "cell_type": "code",
   "execution_count": 12,
   "id": "99bf719d",
   "metadata": {},
   "outputs": [
    {
     "data": {
      "text/plain": [
       "Pipeline(steps=[('standardscaler', StandardScaler()),\n",
       "                ('logisticregression', LogisticRegression())])"
      ]
     },
     "execution_count": 12,
     "metadata": {},
     "output_type": "execute_result"
    }
   ],
   "source": [
    "pipeline.fit(x_train, y_train)"
   ]
  },
  {
   "cell_type": "code",
   "execution_count": 13,
   "id": "836596de",
   "metadata": {},
   "outputs": [
    {
     "data": {
      "text/plain": [
       "1.0"
      ]
     },
     "execution_count": 13,
     "metadata": {},
     "output_type": "execute_result"
    }
   ],
   "source": [
    "pipeline.score(x_test, y_test)"
   ]
  },
  {
   "cell_type": "code",
   "execution_count": 14,
   "id": "61756e0c",
   "metadata": {},
   "outputs": [
    {
     "data": {
      "text/plain": [
       "0.9"
      ]
     },
     "execution_count": 14,
     "metadata": {},
     "output_type": "execute_result"
    }
   ],
   "source": [
    "pipeline2 = make_pipeline(MinMaxScaler(), LogisticRegression())\n",
    "pipeline2.fit(x_train, y_train)\n",
    "pipeline2.score(x_test, y_test)"
   ]
  },
  {
   "cell_type": "markdown",
   "id": "65e7a822",
   "metadata": {},
   "source": [
    "## Label propagation"
   ]
  },
  {
   "cell_type": "code",
   "execution_count": 9,
   "id": "bfeaec34",
   "metadata": {},
   "outputs": [],
   "source": [
    "from sklearn.semi_supervised import LabelPropagation\n",
    "from sklearn import datasets\n",
    "import numpy as np\n",
    "from sklearn.metrics import confusion_matrix,classification_report"
   ]
  },
  {
   "cell_type": "code",
   "execution_count": 10,
   "id": "145927eb",
   "metadata": {},
   "outputs": [],
   "source": [
    "label_prop_model = LabelPropagation()"
   ]
  },
  {
   "cell_type": "code",
   "execution_count": 11,
   "id": "58f11cd4",
   "metadata": {},
   "outputs": [],
   "source": [
    "iris = datasets.load_iris()"
   ]
  },
  {
   "cell_type": "code",
   "execution_count": 12,
   "id": "067e8900",
   "metadata": {},
   "outputs": [
    {
     "data": {
      "text/plain": [
       "dict_keys(['data', 'target', 'frame', 'target_names', 'DESCR', 'feature_names', 'filename'])"
      ]
     },
     "execution_count": 12,
     "metadata": {},
     "output_type": "execute_result"
    }
   ],
   "source": [
    "iris.keys()"
   ]
  },
  {
   "cell_type": "code",
   "execution_count": 13,
   "id": "0bdc5bb8",
   "metadata": {},
   "outputs": [
    {
     "data": {
      "text/plain": [
       "LabelPropagation()"
      ]
     },
     "execution_count": 13,
     "metadata": {},
     "output_type": "execute_result"
    }
   ],
   "source": [
    "rng = np.random.RandomState(42)\n",
    "random_unlabeled_points = rng.rand(len(iris.target)) < 0.3\n",
    "labels = np.copy(iris.target)\n",
    "labels[random_unlabeled_points] = -1\n",
    "label_prop_model.fit(iris.data, labels)"
   ]
  },
  {
   "cell_type": "code",
   "execution_count": 14,
   "id": "ec0f2e6e",
   "metadata": {},
   "outputs": [
    {
     "data": {
      "text/plain": [
       "(array([-1,  0,  1,  2]), array([51, 31, 35, 33]))"
      ]
     },
     "execution_count": 14,
     "metadata": {},
     "output_type": "execute_result"
    }
   ],
   "source": [
    "np.unique(labels, return_counts=True)"
   ]
  },
  {
   "cell_type": "code",
   "execution_count": 15,
   "id": "542039f0",
   "metadata": {},
   "outputs": [
    {
     "data": {
      "text/plain": [
       "array([ True,  True,  True,  True,  True,  True,  True,  True,  True,\n",
       "        True,  True,  True,  True,  True,  True,  True,  True,  True,\n",
       "        True,  True,  True,  True,  True,  True,  True,  True,  True,\n",
       "        True,  True,  True,  True,  True,  True,  True,  True,  True,\n",
       "        True,  True,  True,  True,  True,  True,  True,  True,  True,\n",
       "        True,  True,  True,  True,  True,  True,  True,  True,  True,\n",
       "        True,  True,  True,  True,  True,  True,  True,  True,  True,\n",
       "        True,  True,  True,  True,  True,  True,  True,  True,  True,\n",
       "       False,  True,  True,  True,  True,  True,  True,  True,  True,\n",
       "        True,  True, False,  True,  True,  True,  True,  True,  True,\n",
       "        True,  True,  True,  True,  True,  True,  True,  True,  True,\n",
       "        True,  True,  True,  True,  True,  True,  True,  True,  True,\n",
       "        True,  True,  True,  True,  True,  True,  True,  True,  True,\n",
       "        True,  True,  True,  True,  True,  True,  True,  True,  True,\n",
       "        True,  True,  True,  True,  True,  True,  True,  True,  True,\n",
       "        True,  True,  True,  True,  True,  True,  True,  True,  True,\n",
       "        True,  True,  True,  True,  True,  True])"
      ]
     },
     "execution_count": 15,
     "metadata": {},
     "output_type": "execute_result"
    }
   ],
   "source": [
    "label_prop_model.transduction_ == iris.target"
   ]
  },
  {
   "cell_type": "code",
   "execution_count": 16,
   "id": "ca79a761",
   "metadata": {},
   "outputs": [],
   "source": [
    "pred = label_prop_model.predict(iris.data[random_unlabeled_points])"
   ]
  },
  {
   "cell_type": "code",
   "execution_count": 17,
   "id": "9c11e741",
   "metadata": {},
   "outputs": [
    {
     "data": {
      "text/plain": [
       "array([0, 0, 0, 0, 0, 0, 0, 0, 0, 0, 0, 0, 0, 0, 0, 0, 0, 0, 0, 1, 1, 1,\n",
       "       1, 1, 1, 1, 1, 1, 1, 1, 1, 1, 1, 1, 2, 2, 2, 2, 2, 2, 2, 2, 2, 2,\n",
       "       2, 2, 2, 2, 2, 2, 2])"
      ]
     },
     "execution_count": 17,
     "metadata": {},
     "output_type": "execute_result"
    }
   ],
   "source": [
    "iris.target[random_unlabeled_points]"
   ]
  },
  {
   "cell_type": "code",
   "execution_count": 18,
   "id": "3d2699f5",
   "metadata": {},
   "outputs": [
    {
     "name": "stdout",
     "output_type": "stream",
     "text": [
      "              precision    recall  f1-score   support\n",
      "\n",
      "           0       1.00      1.00      1.00        19\n",
      "           1       0.87      1.00      0.93        13\n",
      "           2       1.00      0.89      0.94        19\n",
      "\n",
      "    accuracy                           0.96        51\n",
      "   macro avg       0.96      0.96      0.96        51\n",
      "weighted avg       0.97      0.96      0.96        51\n",
      "\n"
     ]
    }
   ],
   "source": [
    "print(classification_report(pred, iris.target[random_unlabeled_points]))"
   ]
  },
  {
   "cell_type": "code",
   "execution_count": 22,
   "id": "207a210b",
   "metadata": {},
   "outputs": [
    {
     "name": "stdout",
     "output_type": "stream",
     "text": [
      "              precision    recall  f1-score   support\n",
      "\n",
      "           0       1.00      1.00      1.00        19\n",
      "           1       0.87      1.00      0.93        13\n",
      "           2       1.00      0.89      0.94        19\n",
      "\n",
      "    accuracy                           0.96        51\n",
      "   macro avg       0.96      0.96      0.96        51\n",
      "weighted avg       0.97      0.96      0.96        51\n",
      "\n"
     ]
    }
   ],
   "source": [
    "from sklearn.semi_supervised import LabelSpreading\n",
    "label_prop_model = LabelSpreading()\n",
    "iris = datasets.load_iris()\n",
    "rng = np.random.RandomState(42)\n",
    "random_unlabeled_points = rng.rand(len(iris.target)) < 0.3\n",
    "labels = np.copy(iris.target)\n",
    "labels[random_unlabeled_points] = -1\n",
    "label_prop_model.fit(iris.data, labels)\n",
    "preds = label_prop_model.predict(iris.data[random_unlabeled_points])\n",
    "orig_labels = iris.target[random_unlabeled_points]\n",
    "print(classification_report(preds,orig_labels))"
   ]
  },
  {
   "cell_type": "markdown",
   "id": "c1c2898a",
   "metadata": {},
   "source": [
    "### Self-supervised"
   ]
  },
  {
   "cell_type": "code",
   "execution_count": 53,
   "id": "11d2f68a",
   "metadata": {},
   "outputs": [
    {
     "data": {
      "text/plain": [
       "SelfTrainingClassifier(base_estimator=SVC(gamma='auto', probability=True))"
      ]
     },
     "execution_count": 53,
     "metadata": {},
     "output_type": "execute_result"
    }
   ],
   "source": [
    "import numpy as np\n",
    "from sklearn import datasets\n",
    "from sklearn.semi_supervised import SelfTrainingClassifier\n",
    "from sklearn.svm import SVC\n",
    "rng = np.random.RandomState(42)\n",
    "iris = datasets.load_iris()\n",
    "random_unlabeled_points = rng.rand(iris.target.shape[0]) < 0.3\n",
    "iris.target[random_unlabeled_points] = -1\n",
    "svc = SVC(probability=True, gamma=\"auto\")\n",
    "self_training_model = SelfTrainingClassifier(svc)\n",
    "self_training_model.fit(iris.data, iris.target)"
   ]
  },
  {
   "cell_type": "code",
   "execution_count": 54,
   "id": "27469803",
   "metadata": {},
   "outputs": [
    {
     "data": {
      "text/plain": [
       "SVC(gamma='auto', probability=True)"
      ]
     },
     "execution_count": 54,
     "metadata": {},
     "output_type": "execute_result"
    }
   ],
   "source": [
    "svc"
   ]
  },
  {
   "cell_type": "code",
   "execution_count": 56,
   "id": "5222cb6a",
   "metadata": {},
   "outputs": [
    {
     "name": "stdout",
     "output_type": "stream",
     "text": [
      "(569,)\n",
      "Total Records in dataset is 569 and unlabeled records is  328\n",
      "Label propagation model: 241 labeled & 328 unlabeled points (569 total)\n",
      "              precision    recall  f1-score   support\n",
      "\n",
      "           0       0.56      0.96      0.70       128\n",
      "           1       0.95      0.51      0.66       200\n",
      "\n",
      "    accuracy                           0.69       328\n",
      "   macro avg       0.75      0.74      0.68       328\n",
      "weighted avg       0.80      0.69      0.68       328\n",
      "\n",
      "Confusion matrix\n",
      "[[123   5]\n",
      " [ 98 102]]\n"
     ]
    },
    {
     "name": "stderr",
     "output_type": "stream",
     "text": [
      "/opt/conda/lib/python3.7/site-packages/sklearn/semi_supervised/_label_propagation.py:281: RuntimeWarning: invalid value encountered in true_divide\n",
      "  self.label_distributions_ /= normalizer\n",
      "/opt/conda/lib/python3.7/site-packages/sklearn/semi_supervised/_label_propagation.py:292: ConvergenceWarning: max_iter=2000 was reached without convergence.\n",
      "  category=ConvergenceWarning\n"
     ]
    }
   ],
   "source": [
    "from sklearn import datasets\n",
    "from sklearn.semi_supervised import LabelPropagation\n",
    "from sklearn.metrics import confusion_matrix, classification_report\n",
    "import numpy as np\n",
    "\n",
    "rnd = np.random.RandomState(42)\n",
    "# load the cancer dataset\n",
    "cancer = datasets.load_breast_cancer()\n",
    "\n",
    "# Randomly unlabel some records in the dataset\n",
    "#unlabeled points are marked as -1\n",
    "random_unlabeled_points = rnd.rand(len(cancer.target)) < 0.6\n",
    "print(random_unlabeled_points.shape)\n",
    "labels = np.copy(cancer.target)\n",
    "labels_orig = np.copy(cancer.target)\n",
    "labels[random_unlabeled_points] = -1\n",
    "X=cancer.data\n",
    "tot_unlabled=labels[labels==-1]\n",
    "print(f\"Total Records in dataset is {len(X)} and unlabeled records is  {len(tot_unlabled)}\")\n",
    "\n",
    "# define model\n",
    "model = LabelPropagation(kernel='knn',n_neighbors=5, gamma=30, max_iter=2000)\n",
    "# fit model on training dataset\n",
    "model.fit(X, labels)\n",
    "# make predictions\n",
    "predicted_labels = model.predict(X[random_unlabeled_points])\n",
    "true_labels = labels_orig[random_unlabeled_points]\n",
    "\n",
    "#print the classification report and confusion matrix\n",
    "cm = confusion_matrix(true_labels, predicted_labels, labels=model.classes_)\n",
    "print(\"Label propagation model: %d labeled & %d unlabeled points (%d total)\" %\n",
    "      (len(labels[labels!=-1]), len(tot_unlabled) , len(X)))\n",
    "\n",
    "print(classification_report(true_labels, predicted_labels))\n",
    "print(\"Confusion matrix\")\n",
    "print(cm)"
   ]
  },
  {
   "cell_type": "code",
   "execution_count": null,
   "id": "17e0ce13",
   "metadata": {},
   "outputs": [],
   "source": []
  }
 ],
 "metadata": {
  "kernelspec": {
   "display_name": "Python 3",
   "language": "python",
   "name": "python3"
  },
  "language_info": {
   "codemirror_mode": {
    "name": "ipython",
    "version": 3
   },
   "file_extension": ".py",
   "mimetype": "text/x-python",
   "name": "python",
   "nbconvert_exporter": "python",
   "pygments_lexer": "ipython3",
   "version": "3.7.10"
  }
 },
 "nbformat": 4,
 "nbformat_minor": 5
}
